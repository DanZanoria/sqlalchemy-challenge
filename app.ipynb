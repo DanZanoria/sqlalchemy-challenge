{
 "cells": [
  {
   "cell_type": "code",
   "execution_count": 2,
   "metadata": {},
   "outputs": [],
   "source": [
    "#Creating the app.py through jupyter. For my benefit. Will convert later.\n",
    "\n",
    "#Not all changes in the app.py will be reflected here. I learned the hard way jupyter notebook doesnt play nice with flask. So its better to completely ignore this file unless someone is curious to see me debugging. \n",
    "\n",
    "#import Flask, jsonify from the module flask\n",
    "from flask import Flask, jsonify\n",
    "\n",
    "#import every module and funtions i may need to accomplish this\n",
    "import numpy as np\n",
    "import pandas as pd\n",
    "import datetime as dt\n",
    "import sqlalchemy\n",
    "from sqlalchemy.ext.automap import automap_base\n",
    "from sqlalchemy.orm import Session\n",
    "from sqlalchemy import create_engine, func, inspect\n",
    "from dateutil.relativedelta import relativedelta\n"
   ]
  },
  {
   "cell_type": "code",
   "execution_count": 3,
   "metadata": {},
   "outputs": [],
   "source": [
    "#prepare the engine and the reflection. \n",
    "\n",
    "engine = create_engine(\"sqlite:///hawaii.sqlite\")\n",
    "Base = automap_base()\n",
    "Base.prepare(engine, reflect=True)\n"
   ]
  },
  {
   "cell_type": "code",
   "execution_count": 4,
   "metadata": {},
   "outputs": [
    {
     "output_type": "execute_result",
     "data": {
      "text/plain": [
       "['measurement', 'station']"
      ]
     },
     "metadata": {},
     "execution_count": 4
    }
   ],
   "source": [
    "# View all of the classes that automap found\n",
    "Base.classes.keys()"
   ]
  },
  {
   "cell_type": "code",
   "execution_count": 5,
   "metadata": {},
   "outputs": [],
   "source": [
    "# Save references to each table\n",
    "measurement = Base.classes.measurement\n",
    "station = Base.classes.station"
   ]
  },
  {
   "cell_type": "code",
   "execution_count": 6,
   "metadata": {},
   "outputs": [],
   "source": [
    "# Lets create the flask server\n",
    "\n",
    "ClimateApp = Flask(__name__)\n"
   ]
  },
  {
   "cell_type": "code",
   "execution_count": 7,
   "metadata": {},
   "outputs": [],
   "source": [
    "# Creating the routes. Lets create the first route\n",
    "@ClimateApp.route(\"/\")\n",
    "def welcome():\n",
    "    \"\"\"List all routes that are available\"\"\"\n",
    "    return (\n",
    "        f\"Welcome to the Giant Robot Climate App<br/>\"\n",
    "        f\"Giant Robots protects these routes</br>\"\n",
    "        f\"/api/v1.0/precipitation</br>\"\n",
    "        f\"/api/v1.0/stations</br>\"\n",
    "        f\"/api/v1.0/tobs</br>\"\n",
    "        f\"/api/v1.0/<start></br>\"\n",
    "        f\"/api/v1.0/<end></br>\"\n",
    "    )"
   ]
  },
  {
   "cell_type": "code",
   "execution_count": 15,
   "metadata": {},
   "outputs": [],
   "source": [
    "#create the precipation route\n",
    "# start a session. \n",
    "session = Session(engine)\n",
    "\n",
    "\n",
    "# Convert the query results to a dictionary using `date` as the key and `prcp` as the value.\n",
    "# Return the JSON representation of your dictionary.\n",
    "   \n",
    "\n",
    "\n",
    "Pdata = []\n",
    "#@ClimateApp.route(\"/api/v1.0/precipitation\")\n",
    "def precipitation():\n",
    "   #Copying what i did from the starter\n",
    "    twelvemonths = dt.date(2017, 8, 23) - relativedelta(years=1)\n",
    "    results = session.query(measurement.date,  measurement.prcp).\\\n",
    "       filter(measurement.date >= twelvemonths).order_by(measurement.date.asc()).all()\n",
    "\n",
    "    for date, prcp in results:\n",
    "        pdict = {}\n",
    "        pdict[date] = prcp \n",
    "        Pdata.append(pdict)\n",
    "    #return jsonify(Pdata)\n",
    "    return Pdata\n",
    "# print(Pdata)\n",
    "\n",
    "#Ending the session. Every creation .route will have open and close\n",
    "session.close()\n",
    "\n",
    "\n",
    "\n",
    "\n",
    "\n"
   ]
  },
  {
   "cell_type": "code",
   "execution_count": 18,
   "metadata": {},
   "outputs": [
    {
     "output_type": "stream",
     "name": "stdout",
     "text": [
      "[]\n"
     ]
    }
   ],
   "source": []
  },
  {
   "cell_type": "code",
   "execution_count": 19,
   "metadata": {},
   "outputs": [],
   "source": [
    "#Start a new session before starting. \n",
    "session = Session(engine)\n",
    "\n",
    "#Working on the stations\n",
    "\n",
    "#variable to capture the station\n",
    "statcap = []\n",
    "\n",
    "# Return a JSON list of stations from the dataset.\n",
    "# @ClimateApp.route(\"/api/v1.0/stations\")\n",
    "def stations():\n",
    "    statn = session.query(station.station, station.name, station.latitude, station.longitude, station.elevation).all()\n",
    "\n",
    "    session.close()\n",
    "\n",
    "    for station, station_name, latitude, longitude, elevation in station:\n",
    "        ScapD = {}\n",
    "        ScapD[\"station\"] = station\n",
    "        ScapD[\"name\"] = station_name\n",
    "        ScapD[\"latitude\"] = latitude\n",
    "        ScapD[\"elevation\"] = elevation\n",
    "        ScapD[\"longitude\"] = longitude\n",
    "        statcap.append(ScapD)\n",
    "    # return jsonify(statcap)\n",
    "    return statcap\n",
    "\n",
    "session.close()\n"
   ]
  },
  {
   "cell_type": "code",
   "execution_count": 20,
   "metadata": {},
   "outputs": [
    {
     "output_type": "stream",
     "name": "stdout",
     "text": [
      "[]\n"
     ]
    }
   ],
   "source": [
    "print(statcap)"
   ]
  },
  {
   "cell_type": "code",
   "execution_count": 21,
   "metadata": {},
   "outputs": [],
   "source": [
    "#create a new session, create the tobs route\n",
    "\n",
    "#Like the precipitation route, this is mostly copy and paste from the starter. If done correctly.\n",
    "\n",
    "session = Session(engine)\n",
    "Tempcap = []\n",
    "@ClimateApp.route(\"/api/v1.0/tobs\")\n",
    "def tobs():\n",
    "    #Get a count for all the stations activity\n",
    "    ACstation = session.query(measurement.station, func.count(measurement.station)).\\\n",
    "        group_by(measurement.station).order_by( func.count(measurement.station).desc()).all()\n",
    "    \n",
    "    #Whats the most active and Least Active Station\n",
    "    MactiveS = ACstation[0][0]\n",
    "    LactiveS = ACstation[8][0]\n",
    "    print(f\"The most active station is \" + MactiveS + \". \")\n",
    "    print(f\"The least active station is \" + LactiveS + \". \")\n",
    "\n",
    "    #Do a query to get the temperature Data of the most active station\n",
    "    twelvemonths = dt.date(2017, 8, 23) - relativedelta(years=1)\n",
    "    twelvemtemp = session.query(measurement.date,  measurement.tobs).filter(measurement.date >= twelvemonths).order_by(measurement.date.asc()).all()\n",
    "\n",
    "    #Capture the data\n",
    "    for date, temperature in twelvemtemp:\n",
    "        TdCap = {}\n",
    "        TdCap[date] = temperature\n",
    "        Tempcap.append(TdCap)\n",
    "    return jsonify(Tempcap)\n",
    "    # return Pdata\n",
    "session.close()\n",
    "\n"
   ]
  },
  {
   "cell_type": "code",
   "execution_count": null,
   "metadata": {},
   "outputs": [],
   "source": [
    "session = Session(engine)\n",
    "StartCap = []\n",
    "Endcap = []\n",
    "@ClimateApp.route(\"/api/v1.0/<start>\")\n",
    "@ClimateApp.route(\"/api/v1.0/<end>\")\n",
    "def tobs():\n",
    "    #Get a count for all the stations activity\n",
    "    ACstation = session.query(measurement.station, func.count(measurement.station)).\\\n",
    "        group_by(measurement.station).order_by( func.count(measurement.station).desc()).all()\n",
    "    \n",
    "    #Whats the most active and Least Active Station\n",
    "    MactiveS = ACstation[0][0]\n",
    "    LactiveS = ACstation[8][0]\n",
    "    print(f\"The most active station is \" + MactiveS + \". \")\n",
    "    print(f\"The least active station is \" + LactiveS + \". \")\n",
    "\n",
    "    #Do a query to get the temperature Data of the most active station\n",
    "    twelvemonths = dt.date(2017, 8, 23) - relativedelta(years=1)\n",
    "    twelvemtemp = session.query(measurement.date,  measurement.tobs).filter(measurement.date >= twelvemonths).order_by(measurement.date.asc()).all()\n",
    "\n",
    "    #Capture the data\n",
    "    for date, temperature in twelvemtemp:\n",
    "        TdCap = {}\n",
    "        TdCap[date] = temperature\n",
    "        Tempcap.append(TdCap)\n",
    "    return jsonify(Tempcap)\n",
    "    # return Pdata\n",
    "session.close()"
   ]
  },
  {
   "cell_type": "code",
   "execution_count": 9,
   "metadata": {},
   "outputs": [
    {
     "output_type": "stream",
     "name": "stdout",
     "text": [
      " * Serving Flask app \"__main__\" (lazy loading)\n",
      " * Environment: production\n",
      "   WARNING: This is a development server. Do not use it in a production deployment.\n",
      "   Use a production WSGI server instead.\n",
      " * Debug mode: on\n",
      " * Restarting with windowsapi reloader\n"
     ]
    },
    {
     "output_type": "error",
     "ename": "SystemExit",
     "evalue": "2",
     "traceback": [
      "An exception has occurred, use %tb to see the full traceback.\n",
      "\u001b[1;31mSystemExit\u001b[0m\u001b[1;31m:\u001b[0m 2\n"
     ]
    }
   ],
   "source": [
    "\n",
    "if __name__ == '__main__':\n",
    "    ClimateApp.run(debug=True)\n"
   ]
  },
  {
   "cell_type": "code",
   "execution_count": 101,
   "metadata": {},
   "outputs": [
    {
     "ename": "SyntaxError",
     "evalue": "unexpected EOF while parsing (<ipython-input-101-548aa92d94d3>, line 12)",
     "output_type": "error",
     "traceback": [
      "\u001b[1;36m  File \u001b[1;32m\"<ipython-input-101-548aa92d94d3>\"\u001b[1;36m, line \u001b[1;32m12\u001b[0m\n\u001b[1;33m    # <test code that needs the app context>\u001b[0m\n\u001b[1;37m                                            ^\u001b[0m\n\u001b[1;31mSyntaxError\u001b[0m\u001b[1;31m:\u001b[0m unexpected EOF while parsing\n"
     ]
    }
   ],
   "source": []
  },
  {
   "cell_type": "code",
   "execution_count": null,
   "metadata": {},
   "outputs": [],
   "source": []
  }
 ],
 "metadata": {
  "kernelspec": {
   "display_name": "Python 3",
   "language": "python",
   "name": "python3"
  },
  "language_info": {
   "codemirror_mode": {
    "name": "ipython",
    "version": 3
   },
   "file_extension": ".py",
   "mimetype": "text/x-python",
   "name": "python",
   "nbconvert_exporter": "python",
   "pygments_lexer": "ipython3",
   "version": "3.8.5-final"
  }
 },
 "nbformat": 4,
 "nbformat_minor": 2
}